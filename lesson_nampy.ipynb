{
 "cells": [
  {
   "cell_type": "code",
   "execution_count": 1,
   "id": "e9e6fc07",
   "metadata": {},
   "outputs": [],
   "source": [
    "import os\n",
    "os.path.join?"
   ]
  },
  {
   "cell_type": "code",
   "execution_count": null,
   "id": "9cf91d61",
   "metadata": {},
   "outputs": [],
   "source": []
  }
 ],
 "metadata": {
  "kernelspec": {
   "display_name": "Python 3 (ipykernel)",
   "language": "python",
   "name": "python3"
  },
  "language_info": {
   "codemirror_mode": {
    "name": "ipython",
    "version": 3
   },
   "file_extension": ".py",
   "mimetype": "text/x-python",
   "name": "python",
   "nbconvert_exporter": "python",
   "pygments_lexer": "ipython3",
   "version": "3.11.5"
  }
 },
 "nbformat": 4,
 "nbformat_minor": 5
}
